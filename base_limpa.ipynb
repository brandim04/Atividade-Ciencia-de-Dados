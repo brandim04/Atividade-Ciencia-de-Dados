{
  "nbformat": 4,
  "nbformat_minor": 0,
  "metadata": {
    "colab": {
      "provenance": []
    },
    "kernelspec": {
      "name": "python3",
      "display_name": "Python 3"
    },
    "language_info": {
      "name": "python"
    }
  },
  "cells": [
    {
      "cell_type": "code",
      "execution_count": 1,
      "metadata": {
        "id": "60qSuCZ3cL7P"
      },
      "outputs": [],
      "source": [
        "import pandas as pd\n",
        "import matplotlib.pyplot as plt\n",
        "import seaborn as sns\n",
        "import numpy as np"
      ]
    },
    {
      "cell_type": "code",
      "source": [
        "import pandas as pd\n",
        "from google.colab import files\n",
        "import io\n",
        "\n",
        "print(\"Por favor, selecione o arquivo 'atividade3_dataset.csv' para upload.\")\n",
        "\n",
        "uploaded = files.upload()\n",
        "\n",
        "file_name = next(iter(uploaded))\n",
        "\n",
        "try:\n",
        "    df = pd.read_csv(io.StringIO(uploaded[file_name].decode('utf-8')), sep=';')\n",
        "    print(\"\\nDataset carregado com sucesso!\")\n",
        "    print(df.head())\n",
        "except Exception as e:\n",
        "    print(f\"\\nErro ao carregar o dataset: {e}\")"
      ],
      "metadata": {
        "colab": {
          "base_uri": "https://localhost:8080/",
          "height": 350
        },
        "id": "V3rryCykcSAg",
        "outputId": "8b2207c1-e44b-430e-ff13-554959699ca5"
      },
      "execution_count": 2,
      "outputs": [
        {
          "output_type": "stream",
          "name": "stdout",
          "text": [
            "Por favor, selecione o arquivo 'atividade3_dataset.csv' para upload.\n"
          ]
        },
        {
          "output_type": "display_data",
          "data": {
            "text/plain": [
              "<IPython.core.display.HTML object>"
            ],
            "text/html": [
              "\n",
              "     <input type=\"file\" id=\"files-7ce07a4c-0b2f-4b1a-85c2-61bd50ebe003\" name=\"files[]\" multiple disabled\n",
              "        style=\"border:none\" />\n",
              "     <output id=\"result-7ce07a4c-0b2f-4b1a-85c2-61bd50ebe003\">\n",
              "      Upload widget is only available when the cell has been executed in the\n",
              "      current browser session. Please rerun this cell to enable.\n",
              "      </output>\n",
              "      <script>// Copyright 2017 Google LLC\n",
              "//\n",
              "// Licensed under the Apache License, Version 2.0 (the \"License\");\n",
              "// you may not use this file except in compliance with the License.\n",
              "// You may obtain a copy of the License at\n",
              "//\n",
              "//      http://www.apache.org/licenses/LICENSE-2.0\n",
              "//\n",
              "// Unless required by applicable law or agreed to in writing, software\n",
              "// distributed under the License is distributed on an \"AS IS\" BASIS,\n",
              "// WITHOUT WARRANTIES OR CONDITIONS OF ANY KIND, either express or implied.\n",
              "// See the License for the specific language governing permissions and\n",
              "// limitations under the License.\n",
              "\n",
              "/**\n",
              " * @fileoverview Helpers for google.colab Python module.\n",
              " */\n",
              "(function(scope) {\n",
              "function span(text, styleAttributes = {}) {\n",
              "  const element = document.createElement('span');\n",
              "  element.textContent = text;\n",
              "  for (const key of Object.keys(styleAttributes)) {\n",
              "    element.style[key] = styleAttributes[key];\n",
              "  }\n",
              "  return element;\n",
              "}\n",
              "\n",
              "// Max number of bytes which will be uploaded at a time.\n",
              "const MAX_PAYLOAD_SIZE = 100 * 1024;\n",
              "\n",
              "function _uploadFiles(inputId, outputId) {\n",
              "  const steps = uploadFilesStep(inputId, outputId);\n",
              "  const outputElement = document.getElementById(outputId);\n",
              "  // Cache steps on the outputElement to make it available for the next call\n",
              "  // to uploadFilesContinue from Python.\n",
              "  outputElement.steps = steps;\n",
              "\n",
              "  return _uploadFilesContinue(outputId);\n",
              "}\n",
              "\n",
              "// This is roughly an async generator (not supported in the browser yet),\n",
              "// where there are multiple asynchronous steps and the Python side is going\n",
              "// to poll for completion of each step.\n",
              "// This uses a Promise to block the python side on completion of each step,\n",
              "// then passes the result of the previous step as the input to the next step.\n",
              "function _uploadFilesContinue(outputId) {\n",
              "  const outputElement = document.getElementById(outputId);\n",
              "  const steps = outputElement.steps;\n",
              "\n",
              "  const next = steps.next(outputElement.lastPromiseValue);\n",
              "  return Promise.resolve(next.value.promise).then((value) => {\n",
              "    // Cache the last promise value to make it available to the next\n",
              "    // step of the generator.\n",
              "    outputElement.lastPromiseValue = value;\n",
              "    return next.value.response;\n",
              "  });\n",
              "}\n",
              "\n",
              "/**\n",
              " * Generator function which is called between each async step of the upload\n",
              " * process.\n",
              " * @param {string} inputId Element ID of the input file picker element.\n",
              " * @param {string} outputId Element ID of the output display.\n",
              " * @return {!Iterable<!Object>} Iterable of next steps.\n",
              " */\n",
              "function* uploadFilesStep(inputId, outputId) {\n",
              "  const inputElement = document.getElementById(inputId);\n",
              "  inputElement.disabled = false;\n",
              "\n",
              "  const outputElement = document.getElementById(outputId);\n",
              "  outputElement.innerHTML = '';\n",
              "\n",
              "  const pickedPromise = new Promise((resolve) => {\n",
              "    inputElement.addEventListener('change', (e) => {\n",
              "      resolve(e.target.files);\n",
              "    });\n",
              "  });\n",
              "\n",
              "  const cancel = document.createElement('button');\n",
              "  inputElement.parentElement.appendChild(cancel);\n",
              "  cancel.textContent = 'Cancel upload';\n",
              "  const cancelPromise = new Promise((resolve) => {\n",
              "    cancel.onclick = () => {\n",
              "      resolve(null);\n",
              "    };\n",
              "  });\n",
              "\n",
              "  // Wait for the user to pick the files.\n",
              "  const files = yield {\n",
              "    promise: Promise.race([pickedPromise, cancelPromise]),\n",
              "    response: {\n",
              "      action: 'starting',\n",
              "    }\n",
              "  };\n",
              "\n",
              "  cancel.remove();\n",
              "\n",
              "  // Disable the input element since further picks are not allowed.\n",
              "  inputElement.disabled = true;\n",
              "\n",
              "  if (!files) {\n",
              "    return {\n",
              "      response: {\n",
              "        action: 'complete',\n",
              "      }\n",
              "    };\n",
              "  }\n",
              "\n",
              "  for (const file of files) {\n",
              "    const li = document.createElement('li');\n",
              "    li.append(span(file.name, {fontWeight: 'bold'}));\n",
              "    li.append(span(\n",
              "        `(${file.type || 'n/a'}) - ${file.size} bytes, ` +\n",
              "        `last modified: ${\n",
              "            file.lastModifiedDate ? file.lastModifiedDate.toLocaleDateString() :\n",
              "                                    'n/a'} - `));\n",
              "    const percent = span('0% done');\n",
              "    li.appendChild(percent);\n",
              "\n",
              "    outputElement.appendChild(li);\n",
              "\n",
              "    const fileDataPromise = new Promise((resolve) => {\n",
              "      const reader = new FileReader();\n",
              "      reader.onload = (e) => {\n",
              "        resolve(e.target.result);\n",
              "      };\n",
              "      reader.readAsArrayBuffer(file);\n",
              "    });\n",
              "    // Wait for the data to be ready.\n",
              "    let fileData = yield {\n",
              "      promise: fileDataPromise,\n",
              "      response: {\n",
              "        action: 'continue',\n",
              "      }\n",
              "    };\n",
              "\n",
              "    // Use a chunked sending to avoid message size limits. See b/62115660.\n",
              "    let position = 0;\n",
              "    do {\n",
              "      const length = Math.min(fileData.byteLength - position, MAX_PAYLOAD_SIZE);\n",
              "      const chunk = new Uint8Array(fileData, position, length);\n",
              "      position += length;\n",
              "\n",
              "      const base64 = btoa(String.fromCharCode.apply(null, chunk));\n",
              "      yield {\n",
              "        response: {\n",
              "          action: 'append',\n",
              "          file: file.name,\n",
              "          data: base64,\n",
              "        },\n",
              "      };\n",
              "\n",
              "      let percentDone = fileData.byteLength === 0 ?\n",
              "          100 :\n",
              "          Math.round((position / fileData.byteLength) * 100);\n",
              "      percent.textContent = `${percentDone}% done`;\n",
              "\n",
              "    } while (position < fileData.byteLength);\n",
              "  }\n",
              "\n",
              "  // All done.\n",
              "  yield {\n",
              "    response: {\n",
              "      action: 'complete',\n",
              "    }\n",
              "  };\n",
              "}\n",
              "\n",
              "scope.google = scope.google || {};\n",
              "scope.google.colab = scope.google.colab || {};\n",
              "scope.google.colab._files = {\n",
              "  _uploadFiles,\n",
              "  _uploadFilesContinue,\n",
              "};\n",
              "})(self);\n",
              "</script> "
            ]
          },
          "metadata": {}
        },
        {
          "output_type": "stream",
          "name": "stdout",
          "text": [
            "Saving atividade3_dataset.csv to atividade3_dataset.csv\n",
            "\n",
            "Dataset carregado com sucesso!\n",
            "   ID     Nome  Idade          Cidade   Produto    Preço  Quantidade  \\\n",
            "0   1  Mariana   48.0       FORTALEZA    Tablet  2010,87           7   \n",
            "1   2    Bruno   42.0  RIO DE JANEIRO   Teclado      NaN           6   \n",
            "2   3      Ana   54.0  RIO DE JANEIRO   Monitor  3619.29           2   \n",
            "3   4   Carlos   62.0        CURITIBA   Teclado  40415.9           8   \n",
            "4   5  Mariana   60.0        CURITIBA  Notebook   716.66           8   \n",
            "\n",
            "  Data_Compra  \n",
            "0  30-05-2024  \n",
            "1  12-04-2025  \n",
            "2  10-12-2022  \n",
            "3  31-12-2022  \n",
            "4  14-09-2023  \n"
          ]
        }
      ]
    },
    {
      "cell_type": "code",
      "source": [
        "print(df.columns)"
      ],
      "metadata": {
        "colab": {
          "base_uri": "https://localhost:8080/"
        },
        "id": "cD3CPxhScujF",
        "outputId": "214b101d-de44-4a9f-e711-bd9d126d1093"
      },
      "execution_count": 4,
      "outputs": [
        {
          "output_type": "stream",
          "name": "stdout",
          "text": [
            "Index(['ID', 'Nome', 'Idade', 'Cidade', 'Produto', 'Preço', 'Quantidade',\n",
            "       'Data_Compra'],\n",
            "      dtype='object')\n"
          ]
        }
      ]
    },
    {
      "cell_type": "code",
      "source": [
        "print(df.isnull().sum())"
      ],
      "metadata": {
        "colab": {
          "base_uri": "https://localhost:8080/"
        },
        "id": "5uapaWgcc2Z5",
        "outputId": "dc475a94-84db-4fa2-876c-7227c3fec77a"
      },
      "execution_count": 5,
      "outputs": [
        {
          "output_type": "stream",
          "name": "stdout",
          "text": [
            "ID              0\n",
            "Nome            0\n",
            "Idade          21\n",
            "Cidade          0\n",
            "Produto         0\n",
            "Preço          37\n",
            "Quantidade      0\n",
            "Data_Compra     0\n",
            "dtype: int64\n"
          ]
        }
      ]
    },
    {
      "cell_type": "code",
      "source": [
        "print(df.fillna(0, inplace=True))"
      ],
      "metadata": {
        "colab": {
          "base_uri": "https://localhost:8080/"
        },
        "id": "1qTqq4OXc-Jn",
        "outputId": "8e94e4c9-c484-4d02-8627-2f522024ac68"
      },
      "execution_count": 6,
      "outputs": [
        {
          "output_type": "stream",
          "name": "stdout",
          "text": [
            "None\n"
          ]
        }
      ]
    },
    {
      "cell_type": "code",
      "source": [
        "print(df.duplicated().sum())"
      ],
      "metadata": {
        "colab": {
          "base_uri": "https://localhost:8080/"
        },
        "id": "XPEgJsnWdFMZ",
        "outputId": "3b57f1e6-29a1-499a-c8b0-8dc88c63d300"
      },
      "execution_count": 7,
      "outputs": [
        {
          "output_type": "stream",
          "name": "stdout",
          "text": [
            "8\n"
          ]
        }
      ]
    },
    {
      "cell_type": "code",
      "source": [
        "print(df.drop_duplicates())"
      ],
      "metadata": {
        "colab": {
          "base_uri": "https://localhost:8080/"
        },
        "id": "qe80z-VidKGU",
        "outputId": "0661d9e3-89d8-4d13-b3e1-cf226f4c5296"
      },
      "execution_count": 8,
      "outputs": [
        {
          "output_type": "stream",
          "name": "stdout",
          "text": [
            "      ID      Nome  Idade          Cidade     Produto    Preço  Quantidade  \\\n",
            "0      1   Mariana   48.0       FORTALEZA      Tablet  2010,87           7   \n",
            "1      2     Bruno   42.0  RIO DE JANEIRO     Teclado        0           6   \n",
            "2      3       Ana   54.0  RIO DE JANEIRO     Monitor  3619.29           2   \n",
            "3      4    Carlos   62.0        CURITIBA     Teclado  40415.9           8   \n",
            "4      5   Mariana   60.0        CURITIBA    Notebook   716.66           8   \n",
            "..   ...       ...    ...             ...         ...      ...         ...   \n",
            "497  498  Fernanda   41.0       SÃO PAULO     Teclado  1176.08           9   \n",
            "498  499     Lucas   22.0    PORTO ALEGRE     Teclado  3209.09           5   \n",
            "499  500     Pedro   46.0  RIO DE JANEIRO     Teclado  3474.99           9   \n",
            "503  156      João   47.0  belo horizonte  Smartphone  3444,96           7   \n",
            "508   69      João   25.0  BELO HORIZONTE     Headset  31440.9           8   \n",
            "\n",
            "    Data_Compra  \n",
            "0    30-05-2024  \n",
            "1    12-04-2025  \n",
            "2    10-12-2022  \n",
            "3    31-12-2022  \n",
            "4    14-09-2023  \n",
            "..          ...  \n",
            "497  17-02-2024  \n",
            "498  21-01-2025  \n",
            "499  09-08-2024  \n",
            "503  28-12-2022  \n",
            "508  01-02-2024  \n",
            "\n",
            "[502 rows x 8 columns]\n"
          ]
        }
      ]
    },
    {
      "cell_type": "code",
      "source": [
        "df['Cidade'] = df['Cidade'].str.lower().str.strip()\n",
        "df['Cidade'] = df['Cidade'].replace({'rio de janeiro': 'Rio de Janeiro', 'são paulo': 'São Paulo', 'curitiba': 'Curitiba', 'salvador': 'Salvador', 'fortaleza': 'Fortaleza', 'belo horizonte': 'Belo Horizonte', 'porto alegre': 'Porto Alegre', 'manaus': 'Manaus'})"
      ],
      "metadata": {
        "id": "-0B_meHFdcGK"
      },
      "execution_count": 9,
      "outputs": []
    },
    {
      "cell_type": "code",
      "source": [
        "df['Preço'] = df['Preço'].str.replace(',', '.', regex=False)"
      ],
      "metadata": {
        "id": "NgrZtbl-dhXh"
      },
      "execution_count": 10,
      "outputs": []
    },
    {
      "cell_type": "code",
      "source": [
        "df['Idade'] = pd.to_numeric(df['Idade'], errors='coerce')\n",
        "df['Preço'] = pd.to_numeric(df['Preço'], errors='coerce')\n",
        "df['Data_Compra'] = pd.to_datetime(df['Data_Compra'], format='%d-%m-%Y', errors='coerce')"
      ],
      "metadata": {
        "id": "uFF5fkdWdiiY"
      },
      "execution_count": 11,
      "outputs": []
    },
    {
      "cell_type": "code",
      "source": [
        "print(df.head())"
      ],
      "metadata": {
        "colab": {
          "base_uri": "https://localhost:8080/"
        },
        "id": "KIjOVm8BdqXI",
        "outputId": "1faf2f27-cce0-4378-b694-67cf4cd3419c"
      },
      "execution_count": 12,
      "outputs": [
        {
          "output_type": "stream",
          "name": "stdout",
          "text": [
            "   ID     Nome  Idade          Cidade   Produto     Preço  Quantidade  \\\n",
            "0   1  Mariana   48.0       Fortaleza    Tablet   2010.87           7   \n",
            "1   2    Bruno   42.0  Rio de Janeiro   Teclado       NaN           6   \n",
            "2   3      Ana   54.0  Rio de Janeiro   Monitor   3619.29           2   \n",
            "3   4   Carlos   62.0        Curitiba   Teclado  40415.90           8   \n",
            "4   5  Mariana   60.0        Curitiba  Notebook    716.66           8   \n",
            "\n",
            "  Data_Compra  \n",
            "0  2024-05-30  \n",
            "1  2025-04-12  \n",
            "2  2022-12-10  \n",
            "3  2022-12-31  \n",
            "4  2023-09-14  \n"
          ]
        }
      ]
    },
    {
      "cell_type": "code",
      "source": [
        "mediana_idade = df['Idade'].median()\n",
        "media_preco = df['Preço'].mean()"
      ],
      "metadata": {
        "id": "bu9Rzfu9dvNe"
      },
      "execution_count": 13,
      "outputs": []
    },
    {
      "cell_type": "code",
      "source": [
        "df['Idade'] = df['Idade'].fillna(mediana_idade)\n",
        "df['Preço'] = df['Preço'].fillna(media_preco)\n",
        "df['Produto'] = df['Produto'].fillna('Desconhecido')"
      ],
      "metadata": {
        "id": "Ui1WoA0edx2E"
      },
      "execution_count": 14,
      "outputs": []
    },
    {
      "cell_type": "code",
      "source": [
        "print(df.isnull().sum())"
      ],
      "metadata": {
        "colab": {
          "base_uri": "https://localhost:8080/"
        },
        "id": "Dza-TYRGd1Uu",
        "outputId": "ecc2608d-b31a-4edc-dcf8-c428a077c48f"
      },
      "execution_count": 15,
      "outputs": [
        {
          "output_type": "stream",
          "name": "stdout",
          "text": [
            "ID             0\n",
            "Nome           0\n",
            "Idade          0\n",
            "Cidade         0\n",
            "Produto        0\n",
            "Preço          0\n",
            "Quantidade     0\n",
            "Data_Compra    0\n",
            "dtype: int64\n"
          ]
        }
      ]
    },
    {
      "cell_type": "code",
      "source": [
        "duplicatas_count = df.duplicated().sum()\n",
        "print(f\"Número de duplicatas encontradas: {duplicatas_count}\")"
      ],
      "metadata": {
        "colab": {
          "base_uri": "https://localhost:8080/"
        },
        "id": "YDfykqnjd7Gj",
        "outputId": "75a93d5f-20a3-4873-c550-9c27b0fabb82"
      },
      "execution_count": 18,
      "outputs": [
        {
          "output_type": "stream",
          "name": "stdout",
          "text": [
            "Número de duplicatas encontradas: 9\n"
          ]
        }
      ]
    },
    {
      "cell_type": "code",
      "source": [
        "df.drop_duplicates(inplace=True)"
      ],
      "metadata": {
        "id": "JaKrJtjdeGQZ"
      },
      "execution_count": 20,
      "outputs": []
    },
    {
      "cell_type": "code",
      "source": [
        "print(df[['Idade', 'Preço', 'Quantidade']].describe())"
      ],
      "metadata": {
        "colab": {
          "base_uri": "https://localhost:8080/"
        },
        "id": "2McP8jqpeMJ_",
        "outputId": "c6f94d1f-d6ca-49ab-99fc-b6cb2de24151"
      },
      "execution_count": 23,
      "outputs": [
        {
          "output_type": "stream",
          "name": "stdout",
          "text": [
            "            Idade         Preço  Quantidade\n",
            "count  501.000000    501.000000  501.000000\n",
            "mean    42.544910   3119.605232    5.752495\n",
            "std     17.369412   3656.345808    2.863323\n",
            "min      0.000000    509.890000    1.000000\n",
            "25%     29.000000   1772.050000    3.000000\n",
            "50%     43.000000   2991.120000    6.000000\n",
            "75%     57.000000   3710.160000    8.000000\n",
            "max     70.000000  47611.600000   10.000000\n"
          ]
        }
      ]
    },
    {
      "cell_type": "code",
      "source": [
        "plt.figure(figsize=(8, 5))\n",
        "sns.histplot(df['Idade'], bins=20, color='skyblue')\n",
        "plt.title('Distribuição de Idade', fontsize=15)\n",
        "plt.xlabel('Idade', fontsize=12)\n",
        "plt.ylabel('Frequência', fontsize=12)\n",
        "plt.show()"
      ],
      "metadata": {
        "colab": {
          "base_uri": "https://localhost:8080/",
          "height": 493
        },
        "id": "L2y4vBAceo_D",
        "outputId": "9822f5fe-a2b7-4d4e-bf5e-76ae0bd0963d"
      },
      "execution_count": 24,
      "outputs": [
        {
          "output_type": "display_data",
          "data": {
            "text/plain": [
              "<Figure size 800x500 with 1 Axes>"
            ],
            "image/png": "[encoded data removed]"
          },
          "metadata": {}
        }
      ]
    },
    {
      "cell_type": "code",
      "source": [
        "plt.figure(figsize=(8, 5))\n",
        "sns.scatterplot(x='Preço', y='Quantidade', data=df, color='coral')\n",
        "plt.title('Correlação entre Preço e Quantidade', fontsize=15)\n",
        "plt.xlabel('Preço', fontsize=12)\n",
        "plt.ylabel('Quantidade', fontsize=12)\n",
        "plt.show()"
      ],
      "metadata": {
        "colab": {
          "base_uri": "https://localhost:8080/",
          "height": 493
        },
        "id": "oWWnKaKmeu0q",
        "outputId": "506dfbf3-7d62-4c3f-a83f-1630cd1874c4"
      },
      "execution_count": 25,
      "outputs": [
        {
          "output_type": "display_data",
          "data": {
            "text/plain": [
              "<Figure size 800x500 with 1 Axes>"
            ],
            "image/png": "[encoded data removed]"
          },
          "metadata": {}
        }
      ]
    },
    {
      "cell_type": "markdown",
      "source": [
        "Depois de carregar o arquivo, a primeira coisa que fiz foi a limpeza e padronização dos dados. Ttinha alguns problemas, como por exemplo, o nome de algumas cidades estava escrito de jeitos diferentes, também vi que as colunas de idade e preço estavam como texto, por causa das vírgulas e dos valores vazios, então converti tudo para número para poder fazer os cálculos. A data de compra também foi para o formato certo.\n",
        "\n",
        "Depois, fui para o tratamento dos valores que estavam faltando. Na coluna de idade, usei a mediana para preencher os espaços, pois achei mais seguro para não bagunçar a média com valores estranhos. Já na coluna de preço, preenchi com a média, que deu um bom valor para o tipo de dado. E na de produto coloquei \"Desconhecido\" seguindo a sugestão da atividade.\n",
        "\n",
        "Depois disso, verifiquei se tinha alguma linha duplicada e, para garantir a precisão da análise, simplesmente as removi.\n",
        "\n",
        "Por fim, fiz uma exploração inicial. Criei dois gráficos. Um deles mostra a distribuição das idades, e o outro me deu uma ideia da relação entre o preço e a quantidade vendida. Com tudo isso, o dataset ficou limpo e pronto para a análise."
      ],
      "metadata": {
        "id": "3IwwItuWfU2l"
      }
    },
    {
      "cell_type": "code",
      "source": [
        "df.to_csv(\"Base_limpa2.csv\", index=False)\n"
      ],
      "metadata": {
        "id": "ZDb0AC-tf5Ue"
      },
      "execution_count": 26,
      "outputs": []
    }
  ]
}